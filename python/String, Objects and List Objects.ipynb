{
 "cells": [
  {
   "cell_type": "code",
   "execution_count": 1,
   "id": "079af602",
   "metadata": {},
   "outputs": [
    {
     "name": "stdout",
     "output_type": "stream",
     "text": [
      "*\n",
      "**\n",
      "***\n",
      "****\n",
      "*****\n",
      "****\n",
      "***\n",
      "**\n",
      "*\n"
     ]
    }
   ],
   "source": [
    "#QUESTION 1\n",
    "\n",
    "'''Create the below pattern using nested for loop in Python.\n",
    "*\n",
    "**\n",
    "***\n",
    "****\n",
    "*****\n",
    "****\n",
    "***\n",
    "**\n",
    "*\n",
    "'''\n",
    "def pattern(n):\n",
    "    f=1\n",
    "    for i in range(n,0,-1):\n",
    "        if f==1:\n",
    "            for i in range(1,n+1):\n",
    "                print('*'*i)\n",
    "            f=0\n",
    "            continue\n",
    "        print('*'*i)\n",
    "        \n",
    "pattern(5)"
   ]
  },
  {
   "cell_type": "code",
   "execution_count": 2,
   "id": "96776a12",
   "metadata": {},
   "outputs": [
    {
     "name": "stdout",
     "output_type": "stream",
     "text": [
      "Enter the wordineuron\n"
     ]
    },
    {
     "data": {
      "text/plain": [
       "'norueni'"
      ]
     },
     "execution_count": 2,
     "metadata": {},
     "output_type": "execute_result"
    }
   ],
   "source": [
    "#QUESTION 2\n",
    "\n",
    "'''Write a Python program to reverse a word after accepting the input from the user.'''\n",
    "\n",
    "def rev():\n",
    "    n=input(\"Enter the word\")\n",
    "    return n[::-1]\n",
    "\n",
    "rev()"
   ]
  },
  {
   "cell_type": "code",
   "execution_count": null,
   "id": "161a0723",
   "metadata": {},
   "outputs": [],
   "source": []
  }
 ],
 "metadata": {
  "kernelspec": {
   "display_name": "Python 3",
   "language": "python",
   "name": "python3"
  },
  "language_info": {
   "codemirror_mode": {
    "name": "ipython",
    "version": 3
   },
   "file_extension": ".py",
   "mimetype": "text/x-python",
   "name": "python",
   "nbconvert_exporter": "python",
   "pygments_lexer": "ipython3",
   "version": "3.8.8"
  }
 },
 "nbformat": 4,
 "nbformat_minor": 5
}
